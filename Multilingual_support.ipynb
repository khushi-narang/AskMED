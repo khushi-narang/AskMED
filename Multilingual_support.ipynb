{
 "cells": [
  {
   "cell_type": "code",
   "execution_count": 3,
   "id": "cc785dcc-c56e-4754-8d65-bbebcda22266",
   "metadata": {
    "scrolled": true
   },
   "outputs": [
    {
     "name": "stdout",
     "output_type": "stream",
     "text": [
      "\u001b[34m==>\u001b[0m \u001b[1mDownloading https://formulae.brew.sh/api/formula.jws.json\u001b[0m\n",
      "\u001b[34m==>\u001b[0m \u001b[1mDownloading https://formulae.brew.sh/api/cask.jws.json\u001b[0m\n",
      "\u001b[33mWarning:\u001b[0m libsndfile 1.2.2_1 is already installed and up-to-date.\n",
      "To reinstall 1.2.2_1, run:\n",
      "  brew reinstall libsndfile\n"
     ]
    }
   ],
   "source": [
    "!brew install libsndfile"
   ]
  },
  {
   "cell_type": "code",
   "execution_count": 11,
   "id": "32ab19e4-6563-444f-b8e4-2e651bed50ac",
   "metadata": {
    "scrolled": true
   },
   "outputs": [
    {
     "name": "stdout",
     "output_type": "stream",
     "text": [
      "Collecting torchaudio\n",
      "  Using cached torchaudio-2.6.0-cp312-cp312-macosx_11_0_arm64.whl.metadata (6.6 kB)\n",
      "Requirement already satisfied: torch==2.6.0 in /opt/anaconda3/lib/python3.12/site-packages (from torchaudio) (2.6.0)\n",
      "Requirement already satisfied: filelock in /opt/anaconda3/lib/python3.12/site-packages (from torch==2.6.0->torchaudio) (3.13.1)\n",
      "Requirement already satisfied: typing-extensions>=4.10.0 in /opt/anaconda3/lib/python3.12/site-packages (from torch==2.6.0->torchaudio) (4.11.0)\n",
      "Requirement already satisfied: networkx in /opt/anaconda3/lib/python3.12/site-packages (from torch==2.6.0->torchaudio) (3.3)\n",
      "Requirement already satisfied: jinja2 in /opt/anaconda3/lib/python3.12/site-packages (from torch==2.6.0->torchaudio) (3.1.4)\n",
      "Requirement already satisfied: fsspec in /opt/anaconda3/lib/python3.12/site-packages (from torch==2.6.0->torchaudio) (2024.6.1)\n",
      "Requirement already satisfied: setuptools in /opt/anaconda3/lib/python3.12/site-packages (from torch==2.6.0->torchaudio) (75.8.2)\n",
      "Requirement already satisfied: sympy==1.13.1 in /opt/anaconda3/lib/python3.12/site-packages (from torch==2.6.0->torchaudio) (1.13.1)\n",
      "Requirement already satisfied: mpmath<1.4,>=1.1.0 in /opt/anaconda3/lib/python3.12/site-packages (from sympy==1.13.1->torch==2.6.0->torchaudio) (1.3.0)\n",
      "Requirement already satisfied: MarkupSafe>=2.0 in /opt/anaconda3/lib/python3.12/site-packages (from jinja2->torch==2.6.0->torchaudio) (2.1.3)\n",
      "Using cached torchaudio-2.6.0-cp312-cp312-macosx_11_0_arm64.whl (1.8 MB)\n",
      "Installing collected packages: torchaudio\n",
      "Successfully installed torchaudio-2.6.0\n"
     ]
    }
   ],
   "source": [
    "!pip install torchaudio"
   ]
  },
  {
   "cell_type": "code",
   "execution_count": 13,
   "id": "b62fd118-f6f0-452a-96f0-1f6e006eda6f",
   "metadata": {
    "scrolled": true
   },
   "outputs": [
    {
     "name": "stdout",
     "output_type": "stream",
     "text": [
      "Requirement already satisfied: transformers in /opt/anaconda3/lib/python3.12/site-packages (4.51.0.dev0)\n",
      "Requirement already satisfied: torch in /opt/anaconda3/lib/python3.12/site-packages (2.6.0)\n",
      "Requirement already satisfied: speechbrain in /opt/anaconda3/lib/python3.12/site-packages (1.0.2)\n",
      "Requirement already satisfied: torchaudio in /opt/anaconda3/lib/python3.12/site-packages (2.6.0)\n",
      "Requirement already satisfied: langdetect in /opt/anaconda3/lib/python3.12/site-packages (1.0.9)\n",
      "\u001b[31mERROR: Could not find a version that satisfies the requirement warnings (from versions: none)\u001b[0m\u001b[31m\n",
      "\u001b[0m\u001b[31mERROR: No matching distribution found for warnings\u001b[0m\u001b[31m\n",
      "\u001b[0mNote: you may need to restart the kernel to use updated packages.\n"
     ]
    }
   ],
   "source": [
    "pip install transformers torch speechbrain torchaudio langdetect warnings"
   ]
  },
  {
   "cell_type": "code",
   "execution_count": 15,
   "id": "11d566a7-0c6c-40b8-a956-c30d1dea8f25",
   "metadata": {},
   "outputs": [],
   "source": [
    "import torch\n",
    "import torchaudio\n",
    "from transformers import MBartForConditionalGeneration, MBart50TokenizerFast\n",
    "from speechbrain.pretrained import EncoderDecoderASR\n",
    "from langdetect import detect, LangDetectException\n",
    "import warnings"
   ]
  },
  {
   "cell_type": "code",
   "execution_count": 27,
   "id": "ba24e0a2-baf1-4aab-bdd0-b19bc4e181e0",
   "metadata": {},
   "outputs": [
    {
     "name": "stdout",
     "output_type": "stream",
     "text": [
      "Loading translation model (MBART)...\n",
      "Translation model loaded successfully.\n"
     ]
    }
   ],
   "source": [
    "print(\"Loading translation model (MBART)...\")\n",
    "# Load MBART model and tokenizer for translation\n",
    "model_name = \"facebook/mbart-large-50-many-to-many-mmt\"\n",
    "try:\n",
    "    tokenizer = MBart50TokenizerFast.from_pretrained(model_name)\n",
    "    model = MBartForConditionalGeneration.from_pretrained(model_name)\n",
    "    print(\"Translation model loaded successfully.\")\n",
    "except Exception as e:\n",
    "    print(f\"Error loading translation model: {e}\")\n",
    "    exit() # Exit if essential models fail to load"
   ]
  },
  {
   "cell_type": "code",
   "execution_count": 29,
   "id": "2c867b3c-6df9-4a4a-b1c3-d278ea695730",
   "metadata": {
    "scrolled": true
   },
   "outputs": [
    {
     "name": "stderr",
     "output_type": "stream",
     "text": [
      "INFO:speechbrain.utils.fetching:Fetch hyperparams.yaml: Fetching from HuggingFace Hub 'speechbrain/asr-crdnn-rnnlm-librispeech' if not cached\n"
     ]
    },
    {
     "name": "stdout",
     "output_type": "stream",
     "text": [
      "Loading speech-to-text model (SpeechBrain)...\n"
     ]
    },
    {
     "name": "stderr",
     "output_type": "stream",
     "text": [
      "INFO:speechbrain.utils.fetching:Fetch custom.py: Fetching from HuggingFace Hub 'speechbrain/asr-crdnn-rnnlm-librispeech' if not cached\n",
      "WARNING:speechbrain.utils.torch_audio_backend:SpeechBrain could not find any working torchaudio backend. Audio files may fail to load. Follow this link for instructions and troubleshooting: https://speechbrain.readthedocs.io/en/latest/audioloading.html\n",
      "/opt/anaconda3/lib/python3.12/site-packages/speechbrain/utils/autocast.py:68: FutureWarning: `torch.cuda.amp.custom_fwd(args...)` is deprecated. Please use `torch.amp.custom_fwd(args..., device_type='cuda')` instead.\n",
      "  wrapped_fwd = torch.cuda.amp.custom_fwd(fwd, cast_inputs=cast_inputs)\n",
      "INFO:speechbrain.utils.fetching:Fetch normalizer.ckpt: Fetching from HuggingFace Hub 'speechbrain/asr-crdnn-rnnlm-librispeech' if not cached\n",
      "INFO:speechbrain.utils.fetching:Fetch asr.ckpt: Fetching from HuggingFace Hub 'speechbrain/asr-crdnn-rnnlm-librispeech' if not cached\n",
      "INFO:speechbrain.utils.fetching:Fetch lm.ckpt: Fetching from HuggingFace Hub 'speechbrain/asr-crdnn-rnnlm-librispeech' if not cached\n",
      "INFO:speechbrain.utils.fetching:Fetch tokenizer.ckpt: Fetching from HuggingFace Hub 'speechbrain/asr-crdnn-rnnlm-librispeech' if not cached\n",
      "INFO:speechbrain.utils.parameter_transfer:Loading pretrained files for: normalizer, asr, lm, tokenizer\n"
     ]
    },
    {
     "name": "stdout",
     "output_type": "stream",
     "text": [
      "Speech-to-text model loaded successfully.\n"
     ]
    }
   ],
   "source": [
    "print(\"Loading speech-to-text model (SpeechBrain)...\")\n",
    "# Load speech-to-text model\n",
    "try:\n",
    "    asr_model = EncoderDecoderASR.from_hparams(\n",
    "        source=\"speechbrain/asr-crdnn-rnnlm-librispeech\", savedir=\"tmpdir_asr\"\n",
    "    )\n",
    "    print(\"Speech-to-text model loaded successfully.\")\n",
    "except Exception as e:\n",
    "    print(f\"Error loading speech-to-text model: {e}\")\n",
    "    # Decide if you want to exit or continue without speech functionality\n",
    "    # exit() \n",
    "    asr_model = None # Allow continuing without speech if model load fails\n",
    "    print(\"Warning: Could not load ASR model. Speech input will not work.\")"
   ]
  },
  {
   "cell_type": "code",
   "execution_count": 33,
   "id": "1fcd00e4-cc42-474b-ab53-809f40a163b9",
   "metadata": {},
   "outputs": [],
   "source": [
    "# --- Step 2: Define Helper Functions ---\n",
    "def speech_to_text(audio_path):\n",
    "    \"\"\"Transcribes speech from an audio file path.\"\"\"\n",
    "    if not asr_model:\n",
    "        print(\"ASR model not available.\")\n",
    "        return None\n",
    "    try:\n",
    "        print(f\"Transcribing audio file: {audio_path}\")\n",
    "        text = asr_model.transcribe_file(audio_path)\n",
    "        print(f\"Transcription result: {text}\")\n",
    "        return text\n",
    "    except Exception as e:\n",
    "        print(f\"Error during speech transcription: {e}\")\n",
    "        return None"
   ]
  },
  {
   "cell_type": "code",
   "execution_count": 35,
   "id": "cc177449-f3df-455b-9187-b1da027d2d4a",
   "metadata": {},
   "outputs": [],
   "source": [
    "def detect_language(text):\n",
    "    \"\"\"Detects the language of the input text.\"\"\"\n",
    "    try:\n",
    "        lang_code = detect(text)\n",
    "        print(f\"Detected language code: {lang_code}\")\n",
    "        return lang_code\n",
    "    except LangDetectException:\n",
    "        print(\"Language detection failed, defaulting to English.\")\n",
    "        return 'en' # Default to English if detection fails\n",
    "    except Exception as e:\n",
    "        print(f\"An unexpected error occurred during language detection: {e}\")\n",
    "        return 'en' # Default to English on other errors"
   ]
  },
  {
   "cell_type": "code",
   "execution_count": 39,
   "id": "811286fb-5e00-47ee-bf7b-236def652d34",
   "metadata": {},
   "outputs": [],
   "source": [
    "# --- Step 3: Language Code Mapping for MBART ---\n",
    "lang_code_map = {\n",
    "    'en': 'en_XX',   #english\n",
    "    'fr': 'fr_XX',   #french\n",
    "    'hi': 'hi_IN',   #hindi\n",
    "    'gu': 'gu_IN',   #gujarati\n",
    "    'ur': 'ur_PK',   #urdu\n",
    "    'it': 'it_IT',   #italian\n",
    "    'zh-cn': 'zh_CN', #Chinese\n",
    "    'ja': 'ja_XX',   # Japanese\n",
    "    'ar': 'ar_AR',   # Arabic\n",
    "    'ko': 'ko_KR',   # Korean\n",
    "    'ne': 'ne_NP',   # Nepali \n",
    "    'bn': 'bn_IN',   # Bengali\n",
    "    'ml': 'ml_IN',   # malayalam\n",
    "    'mr': 'mr_IN',   # marathi\n",
    "    'ta': 'ta_IN',   # tamil\n",
    "    'te': 'te_IN',   # telugu\n",
    "    # Add more mappings as needed based on MBART's supported languages\n",
    "}"
   ]
  },
  {
   "cell_type": "code",
   "execution_count": 41,
   "id": "be14b108-c48b-47eb-ae42-548587092dfe",
   "metadata": {},
   "outputs": [],
   "source": [
    "def translate(text, src_lang_code, tgt_lang_code):\n",
    "    \"\"\"Translates text from source language to target language using MBART.\"\"\"\n",
    "    try:\n",
    "        tokenizer.src_lang = src_lang_code\n",
    "        encoded = tokenizer(text, return_tensors=\"pt\")\n",
    "        \n",
    "        # Ensure the model and inputs are on the same device (CPU or GPU)\n",
    "        # device = torch.device(\"cuda\" if torch.cuda.is_available() else \"cpu\")\n",
    "        # model.to(device)\n",
    "        # encoded = {k: v.to(device) for k, v in encoded.items()}\n",
    "\n",
    "        generated_tokens = model.generate(\n",
    "            **encoded,\n",
    "            forced_bos_token_id=tokenizer.lang_code_to_id[tgt_lang_code]\n",
    "        )\n",
    "        translated_text = tokenizer.batch_decode(generated_tokens, skip_special_tokens=True)[0]\n",
    "        print(f\"Translated '{text}' ({src_lang_code}) to '{translated_text}' ({tgt_lang_code})\")\n",
    "        return translated_text\n",
    "    except KeyError:\n",
    "        print(f\"Error: MBART does not support the target language code '{tgt_lang_code}' derived from map.\")\n",
    "        # Fallback: return original text or an error message\n",
    "        return text # Or return f\"Error: Translation to {tgt_lang_code} not supported.\"\n",
    "    except Exception as e:\n",
    "        print(f\"Error during translation: {e}\")\n",
    "        # Fallback: return original text or an error message\n",
    "        return text # Or return \"Error during translation.\"\n"
   ]
  },
  {
   "cell_type": "code",
   "execution_count": 43,
   "id": "250c150f-b5b6-47c4-8107-13a1b49fc90a",
   "metadata": {},
   "outputs": [],
   "source": [
    "# --- Step 4: Medicine Information ---\n",
    "# Assume your medicine data is in a dictionary (keys should be lowercase)\n",
    "medicine_data = {\n",
    "    \"paracetamol\": \"Used for fever and mild pain relief.\",\n",
    "    \"ibuprofen\": \"Anti-inflammatory and pain-relieving medicine.\",\n",
    "    \"aspirin\": \"Used to reduce pain, fever, or inflammation.\",\n",
    "    \"loratadine\": \"Antihistamine used to treat allergies.\",\n",
    "    \"amoxicillin\": \"Antibiotic used to treat bacterial infections.\",\n",
    "    # Add more medicines in lowercase\n",
    "}"
   ]
  },
  {
   "cell_type": "code",
   "execution_count": 45,
   "id": "02a6ca90-e80f-40be-aca9-60e47d2406dd",
   "metadata": {},
   "outputs": [],
   "source": [
    "def get_medicine_info(med_name_key):\n",
    "    \"\"\"Retrieves medicine information from the dictionary (case-insensitive).\"\"\"\n",
    "    # Assumes med_name_key is already lowercase and validated\n",
    "    return medicine_data.get(med_name_key, \"Medicine information not found.\")"
   ]
  },
  {
   "cell_type": "code",
   "execution_count": 72,
   "id": "020655df-d9d5-4f48-8b7b-82abd5e68e73",
   "metadata": {},
   "outputs": [],
   "source": [
    "# --- Step 5: Main Chatbot Logic ---\n",
    "def medicine_chatbot(input_text=None, audio_path=None):\n",
    "    \"\"\"Handles the chatbot interaction flow.\"\"\"\n",
    "    # === Part 1: Get Text Input ===\n",
    "    if audio_path:\n",
    "        print(f\"\\n--- Processing Audio Input: {audio_path} ---\")\n",
    "        input_text = speech_to_text(audio_path)\n",
    "        if not input_text:\n",
    "            return \"Sorry, I couldn't understand the audio.\"\n",
    "    elif input_text:\n",
    "         print(f\"\\n--- Processing Text Input: {input_text} ---\")\n",
    "    else:\n",
    "        return \"Error: No input provided.\"\n",
    "        \n",
    "    # === Part 2: Detect Language ===\n",
    "    detected_lang = detect_language(input_text)\n",
    "    \n",
    "    # === Part 3: Get MBART Source Language Code ===\n",
    "    # Default to English if detected language is not in our map\n",
    "    src_mbart_code = lang_code_map.get(detected_lang, 'en_XX')\n",
    "    if detected_lang not in lang_code_map:\n",
    "        print(f\"Warning: Detected language '{detected_lang}' not in lang_code_map. Assuming English ('en_XX') for translation source.\")\n",
    "        # Optional: you could return an error here if you don't want to default\n",
    "        # return f\"Sorry, language '{detected_lang}' is not currently supported.\"\n",
    "\n",
    "    # === Part 4: Translate Input to English (for lookup) ===\n",
    "    # Only translate if the detected language isn't English\n",
    "    if src_mbart_code != 'en_XX':\n",
    "        eng_text = translate(input_text, src_mbart_code, 'en_XX')\n",
    "    else:\n",
    "        eng_text = input_text # Already in English (or defaulted to it)\n",
    "    \n",
    "    if not eng_text: # Handle potential translation failure\n",
    "         return \"Sorry, there was an error processing your request.\"\n",
    "\n",
    "    # === Part 5: Extract Medicine Name & Get Information ===\n",
    "    found_med_name = None\n",
    "    med_info_eng = \"Could not identify a known medicine in your query.\" # Default response\n",
    "\n",
    "    for med_name_key in medicine_data.keys():\n",
    "        # Simple substring check (lowercase) - might need refinement for accuracy\n",
    "        if med_name_key in eng_text.lower(): \n",
    "            found_med_name = med_name_key\n",
    "            print(f\"Identified potential medicine: {found_med_name}\")\n",
    "            med_info_eng = get_medicine_info(found_med_name)\n",
    "            break # Use the first match found\n",
    "\n",
    "    # === Part 6: Translate Information Back to Original Language ===\n",
    "    # Only translate back if the original language wasn't English\n",
    "    if src_mbart_code != 'en_XX':\n",
    "        # Check if the source code is actually supported by MBART as a target\n",
    "        if src_mbart_code in tokenizer.lang_code_to_id:\n",
    "            final_response = translate(med_info_eng, 'en_XX', src_mbart_code)\n",
    "        else:\n",
    "             print(f\"Warning: Cannot translate back to unsupported MBART code '{src_mbart_code}'. Returning English.\")\n",
    "             final_response = med_info_eng # Fallback to English\n",
    "    else:\n",
    "        final_response = med_info_eng # Already in English\n",
    "\n",
    "    print(f\"--- Final Response: {final_response} ---\")\n",
    "    return final_response\n"
   ]
  },
  {
   "cell_type": "code",
   "execution_count": 76,
   "id": "61ee0c61-bd1b-4af2-8aa2-27ca11aaf63a",
   "metadata": {},
   "outputs": [
    {
     "name": "stdout",
     "output_type": "stream",
     "text": [
      "\n",
      "=== Testing Text Input ===\n",
      "\n",
      "--- Processing Text Input: Tell me about Paracetamol ---\n",
      "Detected language code: en\n",
      "Identified potential medicine: paracetamol\n",
      "--- Final Response: Used for fever and mild pain relief. ---\n",
      "Bot Response (en): Used for fever and mild pain relief.\n",
      "\n",
      "--- Processing Text Input: Qu'est-ce que l'aspirine? ---\n",
      "Detected language code: fr\n",
      "Translated 'Qu'est-ce que l'aspirine?' (fr_XX) to 'What is aspirin?' (en_XX)\n",
      "Identified potential medicine: aspirin\n",
      "Translated 'Used to reduce pain, fever, or inflammation.' (en_XX) to 'Utilisé pour réduire la douleur, la fièvre ou l'inflammation.' (fr_XX)\n",
      "--- Final Response: Utilisé pour réduire la douleur, la fièvre ou l'inflammation. ---\n",
      "Bot Response (fr): Utilisé pour réduire la douleur, la fièvre ou l'inflammation.\n",
      "\n",
      "--- Processing Text Input: इबुप्रोफेन क्या है? ---\n",
      "Detected language code: hi\n",
      "Translated 'इबुप्रोफेन क्या है?' (hi_IN) to 'What is ibuprofen?' (en_XX)\n",
      "Identified potential medicine: ibuprofen\n",
      "Translated 'Anti-inflammatory and pain-relieving medicine.' (en_XX) to 'प्रदाहरोधक और दर्द मिटाने वाला औषधि।' (hi_IN)\n",
      "--- Final Response: प्रदाहरोधक और दर्द मिटाने वाला औषधि। ---\n",
      "Bot Response (hi): प्रदाहरोधक और दर्द मिटाने वाला औषधि।\n",
      "\n",
      "--- Processing Text Input: What is good for a headache? ---\n",
      "Detected language code: en\n",
      "--- Final Response: Could not identify a known medicine in your query. ---\n",
      "Bot Response (unknown med): Could not identify a known medicine in your query.\n",
      "\n",
      "=== Testing Audio Input (Commented Out) ===\n"
     ]
    }
   ],
   "source": [
    "# --- Step 6: Example Usage ---\n",
    "\n",
    "if __name__ == \"__main__\":\n",
    "    # === Text Input Examples ===\n",
    "    print(\"\\n=== Testing Text Input ===\")\n",
    "    \n",
    "    # Example 1: English input\n",
    "    result1 = medicine_chatbot(input_text=\"Tell me about Paracetamol\")\n",
    "    print(\"Bot Response (en):\", result1)\n",
    "\n",
    "    # Example 2: French input (assuming 'fr' is mapped to 'fr_XX')\n",
    "    result2 = medicine_chatbot(input_text=\"Qu'est-ce que l'aspirine?\") # \"What is aspirin?\"\n",
    "    print(\"Bot Response (fr):\", result2)\n",
    "\n",
    "    # Example 2: Hindi input (assuming 'hi' is mapped to 'hi_IN')\n",
    "    result3 = medicine_chatbot(input_text=\"इबुप्रोफेन क्या है?\") # \"What is Ibuprofen?\"\n",
    "    print(\"Bot Response (hi):\", result3)\n",
    "    \n",
    "    # Example 3: Input where medicine name might not be found\n",
    "    result4 = medicine_chatbot(input_text=\"What is good for a headache?\")\n",
    "    print(\"Bot Response (unknown med):\", result4)\n",
    "\n",
    "    # === Audio Input Example (Requires a .wav file) ===\n",
    "    # Make sure you have a suitable audio file (e.g., 16kHz mono WAV recommended for SpeechBrain)\n",
    "    # You might need to install ffmpeg for broader audio format support: `conda install ffmpeg` or `sudo apt install ffmpeg`\n",
    "    print(\"\\n=== Testing Audio Input (Commented Out) ===\")\n",
    "    audio_file = \"your_audio_file.wav\" # <--- !!! REPLACE WITH YOUR ACTUAL AUDIO FILE PATH !!!\n",
    "    \n",
    "    # try:\n",
    "    #     # Ensure the file exists before calling\n",
    "    #     import os\n",
    "    #     if os.path.exists(audio_file) and asr_model:\n",
    "    #         result_audio = medicine_chatbot(audio_path=audio_file)\n",
    "    #         print(f\"Bot Response (from {audio_file}):\", result_audio)\n",
    "    #     elif not asr_model:\n",
    "    #          print(f\"Skipping audio test: ASR model not loaded.\")\n",
    "    #     else:\n",
    "    #         print(f\"Skipping audio test: File '{audio_file}' not found.\")\n",
    "    # except Exception as e:\n",
    "    #     print(f\"An error occurred during the audio test: {e}\")\n"
   ]
  },
  {
   "cell_type": "code",
   "execution_count": null,
   "id": "0f604b98-8fa4-4ee6-bc9a-a3c3504d4d77",
   "metadata": {},
   "outputs": [],
   "source": []
  },
  {
   "cell_type": "code",
   "execution_count": null,
   "id": "dcd96e07-f03c-4848-8a67-8f4e5d46e446",
   "metadata": {},
   "outputs": [],
   "source": []
  },
  {
   "cell_type": "code",
   "execution_count": null,
   "id": "50554e56-925c-405b-8cca-ab79bbcad433",
   "metadata": {},
   "outputs": [],
   "source": []
  },
  {
   "cell_type": "code",
   "execution_count": null,
   "id": "7af6fc34-c02e-414a-aca1-baeae9b99d0c",
   "metadata": {},
   "outputs": [],
   "source": []
  },
  {
   "cell_type": "code",
   "execution_count": null,
   "id": "7f96469c-94ef-4206-b334-12670211151e",
   "metadata": {},
   "outputs": [],
   "source": []
  },
  {
   "cell_type": "code",
   "execution_count": null,
   "id": "62b1bf79-f8d8-420b-9f04-71dd6d5fd1bb",
   "metadata": {},
   "outputs": [],
   "source": []
  },
  {
   "cell_type": "code",
   "execution_count": null,
   "id": "33c8357f-f50e-4684-bfa7-c0dc037dafb5",
   "metadata": {},
   "outputs": [],
   "source": []
  },
  {
   "cell_type": "code",
   "execution_count": null,
   "id": "eead715f-2f2a-4bc3-af98-867ee0fe2802",
   "metadata": {},
   "outputs": [],
   "source": []
  },
  {
   "cell_type": "code",
   "execution_count": null,
   "id": "bdf5d4b9-830b-457c-8ca4-9d4fc423a06c",
   "metadata": {},
   "outputs": [],
   "source": []
  },
  {
   "cell_type": "code",
   "execution_count": null,
   "id": "18753822-e5f8-49e2-8eb0-647ecd347b5e",
   "metadata": {},
   "outputs": [],
   "source": []
  }
 ],
 "metadata": {
  "kernelspec": {
   "display_name": "Python [conda env:base] *",
   "language": "python",
   "name": "conda-base-py"
  },
  "language_info": {
   "codemirror_mode": {
    "name": "ipython",
    "version": 3
   },
   "file_extension": ".py",
   "mimetype": "text/x-python",
   "name": "python",
   "nbconvert_exporter": "python",
   "pygments_lexer": "ipython3",
   "version": "3.12.7"
  }
 },
 "nbformat": 4,
 "nbformat_minor": 5
}
